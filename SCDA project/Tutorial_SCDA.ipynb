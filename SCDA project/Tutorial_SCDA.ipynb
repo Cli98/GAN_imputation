{
 "cells": [
  {
   "cell_type": "markdown",
   "metadata": {},
   "source": [
    "# Introduction\n",
    "\n",
    "This is a simple CNN denoising autoencoder for genotype impuation. The performance is assayed on yeast genotype."
   ]
  },
  {
   "cell_type": "code",
   "execution_count": 1,
   "metadata": {},
   "outputs": [
    {
     "name": "stderr",
     "output_type": "stream",
     "text": [
      "Using TensorFlow backend.\n"
     ]
    }
   ],
   "source": [
    "%matplotlib inline\n",
    "\n",
    "import random\n",
    "from time import time\n",
    "import gzip\n",
    "\n",
    "from matplotlib import pyplot as plt\n",
    "import pylab as pl\n",
    "import numpy as np\n",
    "import pandas as pd\n",
    "import matplotlib.cm as cm\n",
    "\n",
    "from sklearn.model_selection import train_test_split\n",
    "from sklearn import preprocessing\n",
    "\n",
    "import keras\n",
    "from keras.layers import Input, Embedding, Conv1D, Conv2D, MaxPooling1D, MaxPooling2D, UpSampling1D, UpSampling2D\n",
    "from keras.layers import Dropout, BatchNormalization, Activation\n",
    "from keras.models import Model, Sequential\n",
    "from keras.optimizers import RMSprop\n",
    "from keras.callbacks import TensorBoard\n",
    "from keras.regularizers import l1, l1, l1_l2"
   ]
  },
  {
   "cell_type": "code",
   "execution_count": 2,
   "metadata": {},
   "outputs": [],
   "source": [
    "# specify a seed for repeating the exactly results\n",
    "np.random.seed(seed=28213)"
   ]
  },
  {
   "cell_type": "code",
   "execution_count": 3,
   "metadata": {},
   "outputs": [
    {
     "name": "stdout",
     "output_type": "stream",
     "text": [
      "data shape: (4390, 28220)\n"
     ]
    }
   ],
   "source": [
    "# load data\n",
    "input_name = 'data/genotype_full_1_2.txt'  # 'data/genotype_full.txt'\n",
    "df_ori = pd.read_csv(input_name, sep='\\t', index_col=0)\n",
    "print('data shape:', df_ori.shape)\n",
    "\n",
    "# output dir\n",
    "output_path = 'models'"
   ]
  },
  {
   "cell_type": "code",
   "execution_count": 4,
   "metadata": {
    "scrolled": false
   },
   "outputs": [
    {
     "data": {
      "text/html": [
       "<div>\n",
       "<style scoped>\n",
       "    .dataframe tbody tr th:only-of-type {\n",
       "        vertical-align: middle;\n",
       "    }\n",
       "\n",
       "    .dataframe tbody tr th {\n",
       "        vertical-align: top;\n",
       "    }\n",
       "\n",
       "    .dataframe thead th {\n",
       "        text-align: right;\n",
       "    }\n",
       "</style>\n",
       "<table border=\"1\" class=\"dataframe\">\n",
       "  <thead>\n",
       "    <tr style=\"text-align: right;\">\n",
       "      <th></th>\n",
       "      <th>33070_chrI_33070_A_T</th>\n",
       "      <th>33147_chrI_33147_G_T</th>\n",
       "      <th>33152_chrI_33152_T_C</th>\n",
       "      <th>33200_chrI_33200_C_T</th>\n",
       "      <th>33293_chrI_33293_A_T</th>\n",
       "      <th>33328_chrI_33328_C_A</th>\n",
       "      <th>33348_chrI_33348_G_C</th>\n",
       "      <th>33403_chrI_33403_C_T</th>\n",
       "      <th>33502_chrI_33502_A_G</th>\n",
       "      <th>33548_chrI_33548_A_C</th>\n",
       "      <th>...</th>\n",
       "      <th>12048853_chrXVI_925593_G_C</th>\n",
       "      <th>12049199_chrXVI_925939_T_C</th>\n",
       "      <th>12049441_chrXVI_926181_C_T</th>\n",
       "      <th>12050613_chrXVI_927353_T_G</th>\n",
       "      <th>12051167_chrXVI_927907_A_C</th>\n",
       "      <th>12051240_chrXVI_927980_A_G</th>\n",
       "      <th>12051367_chrXVI_928107_C_T</th>\n",
       "      <th>12052782_chrXVI_929522_C_T</th>\n",
       "      <th>12052988_chrXVI_929728_A_G</th>\n",
       "      <th>12053130_chrXVI_929870_C_T</th>\n",
       "    </tr>\n",
       "    <tr>\n",
       "      <th>SAMID</th>\n",
       "      <th></th>\n",
       "      <th></th>\n",
       "      <th></th>\n",
       "      <th></th>\n",
       "      <th></th>\n",
       "      <th></th>\n",
       "      <th></th>\n",
       "      <th></th>\n",
       "      <th></th>\n",
       "      <th></th>\n",
       "      <th></th>\n",
       "      <th></th>\n",
       "      <th></th>\n",
       "      <th></th>\n",
       "      <th></th>\n",
       "      <th></th>\n",
       "      <th></th>\n",
       "      <th></th>\n",
       "      <th></th>\n",
       "      <th></th>\n",
       "      <th></th>\n",
       "    </tr>\n",
       "  </thead>\n",
       "  <tbody>\n",
       "    <tr>\n",
       "      <th>01_01</th>\n",
       "      <td>1</td>\n",
       "      <td>1</td>\n",
       "      <td>1</td>\n",
       "      <td>1</td>\n",
       "      <td>1</td>\n",
       "      <td>1</td>\n",
       "      <td>1</td>\n",
       "      <td>1</td>\n",
       "      <td>1</td>\n",
       "      <td>1</td>\n",
       "      <td>...</td>\n",
       "      <td>2</td>\n",
       "      <td>2</td>\n",
       "      <td>2</td>\n",
       "      <td>2</td>\n",
       "      <td>2</td>\n",
       "      <td>2</td>\n",
       "      <td>2</td>\n",
       "      <td>2</td>\n",
       "      <td>2</td>\n",
       "      <td>2</td>\n",
       "    </tr>\n",
       "    <tr>\n",
       "      <th>01_02</th>\n",
       "      <td>1</td>\n",
       "      <td>1</td>\n",
       "      <td>1</td>\n",
       "      <td>1</td>\n",
       "      <td>1</td>\n",
       "      <td>1</td>\n",
       "      <td>1</td>\n",
       "      <td>1</td>\n",
       "      <td>1</td>\n",
       "      <td>1</td>\n",
       "      <td>...</td>\n",
       "      <td>2</td>\n",
       "      <td>2</td>\n",
       "      <td>2</td>\n",
       "      <td>2</td>\n",
       "      <td>2</td>\n",
       "      <td>2</td>\n",
       "      <td>2</td>\n",
       "      <td>2</td>\n",
       "      <td>2</td>\n",
       "      <td>2</td>\n",
       "    </tr>\n",
       "    <tr>\n",
       "      <th>01_03</th>\n",
       "      <td>2</td>\n",
       "      <td>2</td>\n",
       "      <td>2</td>\n",
       "      <td>2</td>\n",
       "      <td>2</td>\n",
       "      <td>2</td>\n",
       "      <td>2</td>\n",
       "      <td>2</td>\n",
       "      <td>2</td>\n",
       "      <td>2</td>\n",
       "      <td>...</td>\n",
       "      <td>1</td>\n",
       "      <td>1</td>\n",
       "      <td>1</td>\n",
       "      <td>1</td>\n",
       "      <td>1</td>\n",
       "      <td>1</td>\n",
       "      <td>1</td>\n",
       "      <td>1</td>\n",
       "      <td>1</td>\n",
       "      <td>1</td>\n",
       "    </tr>\n",
       "    <tr>\n",
       "      <th>01_04</th>\n",
       "      <td>1</td>\n",
       "      <td>1</td>\n",
       "      <td>1</td>\n",
       "      <td>1</td>\n",
       "      <td>1</td>\n",
       "      <td>1</td>\n",
       "      <td>1</td>\n",
       "      <td>1</td>\n",
       "      <td>1</td>\n",
       "      <td>1</td>\n",
       "      <td>...</td>\n",
       "      <td>1</td>\n",
       "      <td>1</td>\n",
       "      <td>1</td>\n",
       "      <td>1</td>\n",
       "      <td>1</td>\n",
       "      <td>1</td>\n",
       "      <td>1</td>\n",
       "      <td>1</td>\n",
       "      <td>1</td>\n",
       "      <td>1</td>\n",
       "    </tr>\n",
       "    <tr>\n",
       "      <th>01_06</th>\n",
       "      <td>2</td>\n",
       "      <td>2</td>\n",
       "      <td>2</td>\n",
       "      <td>2</td>\n",
       "      <td>2</td>\n",
       "      <td>2</td>\n",
       "      <td>2</td>\n",
       "      <td>2</td>\n",
       "      <td>2</td>\n",
       "      <td>2</td>\n",
       "      <td>...</td>\n",
       "      <td>2</td>\n",
       "      <td>2</td>\n",
       "      <td>2</td>\n",
       "      <td>2</td>\n",
       "      <td>2</td>\n",
       "      <td>2</td>\n",
       "      <td>2</td>\n",
       "      <td>2</td>\n",
       "      <td>2</td>\n",
       "      <td>2</td>\n",
       "    </tr>\n",
       "  </tbody>\n",
       "</table>\n",
       "<p>5 rows × 28220 columns</p>\n",
       "</div>"
      ],
      "text/plain": [
       "       33070_chrI_33070_A_T  33147_chrI_33147_G_T  33152_chrI_33152_T_C  \\\n",
       "SAMID                                                                     \n",
       "01_01                     1                     1                     1   \n",
       "01_02                     1                     1                     1   \n",
       "01_03                     2                     2                     2   \n",
       "01_04                     1                     1                     1   \n",
       "01_06                     2                     2                     2   \n",
       "\n",
       "       33200_chrI_33200_C_T  33293_chrI_33293_A_T  33328_chrI_33328_C_A  \\\n",
       "SAMID                                                                     \n",
       "01_01                     1                     1                     1   \n",
       "01_02                     1                     1                     1   \n",
       "01_03                     2                     2                     2   \n",
       "01_04                     1                     1                     1   \n",
       "01_06                     2                     2                     2   \n",
       "\n",
       "       33348_chrI_33348_G_C  33403_chrI_33403_C_T  33502_chrI_33502_A_G  \\\n",
       "SAMID                                                                     \n",
       "01_01                     1                     1                     1   \n",
       "01_02                     1                     1                     1   \n",
       "01_03                     2                     2                     2   \n",
       "01_04                     1                     1                     1   \n",
       "01_06                     2                     2                     2   \n",
       "\n",
       "       33548_chrI_33548_A_C  ...  12048853_chrXVI_925593_G_C  \\\n",
       "SAMID                        ...                               \n",
       "01_01                     1  ...                           2   \n",
       "01_02                     1  ...                           2   \n",
       "01_03                     2  ...                           1   \n",
       "01_04                     1  ...                           1   \n",
       "01_06                     2  ...                           2   \n",
       "\n",
       "       12049199_chrXVI_925939_T_C  12049441_chrXVI_926181_C_T  \\\n",
       "SAMID                                                           \n",
       "01_01                           2                           2   \n",
       "01_02                           2                           2   \n",
       "01_03                           1                           1   \n",
       "01_04                           1                           1   \n",
       "01_06                           2                           2   \n",
       "\n",
       "       12050613_chrXVI_927353_T_G  12051167_chrXVI_927907_A_C  \\\n",
       "SAMID                                                           \n",
       "01_01                           2                           2   \n",
       "01_02                           2                           2   \n",
       "01_03                           1                           1   \n",
       "01_04                           1                           1   \n",
       "01_06                           2                           2   \n",
       "\n",
       "       12051240_chrXVI_927980_A_G  12051367_chrXVI_928107_C_T  \\\n",
       "SAMID                                                           \n",
       "01_01                           2                           2   \n",
       "01_02                           2                           2   \n",
       "01_03                           1                           1   \n",
       "01_04                           1                           1   \n",
       "01_06                           2                           2   \n",
       "\n",
       "       12052782_chrXVI_929522_C_T  12052988_chrXVI_929728_A_G  \\\n",
       "SAMID                                                           \n",
       "01_01                           2                           2   \n",
       "01_02                           2                           2   \n",
       "01_03                           1                           1   \n",
       "01_04                           1                           1   \n",
       "01_06                           2                           2   \n",
       "\n",
       "       12053130_chrXVI_929870_C_T  \n",
       "SAMID                              \n",
       "01_01                           2  \n",
       "01_02                           2  \n",
       "01_03                           1  \n",
       "01_04                           1  \n",
       "01_06                           2  \n",
       "\n",
       "[5 rows x 28220 columns]"
      ]
     },
     "execution_count": 4,
     "metadata": {},
     "output_type": "execute_result"
    }
   ],
   "source": [
    "df_ori.head()"
   ]
  },
  {
   "cell_type": "code",
   "execution_count": 5,
   "metadata": {},
   "outputs": [],
   "source": [
    "# take a small part to test code\n",
    "df = df_ori.iloc[0:1000:, 0:5000]"
   ]
  },
  {
   "cell_type": "code",
   "execution_count": 6,
   "metadata": {},
   "outputs": [],
   "source": [
    "# hyperparameters\n",
    "missing_perc = 0.05\n",
    "\n",
    "feature_size = df.shape[1]\n",
    "drop_prec = 0.25\n",
    "batch_size = 32\n",
    "lr = 0.1\n",
    "epochs = 10\n",
    "kr = 0.0001"
   ]
  },
  {
   "cell_type": "markdown",
   "metadata": {},
   "source": [
    "# Build model"
   ]
  },
  {
   "cell_type": "code",
   "execution_count": 7,
   "metadata": {},
   "outputs": [],
   "source": [
    "# conv 1D\n",
    "inChannel = 1\n",
    "x = feature_size"
   ]
  },
  {
   "cell_type": "code",
   "execution_count": 8,
   "metadata": {},
   "outputs": [
    {
     "name": "stdout",
     "output_type": "stream",
     "text": [
      "WARNING:tensorflow:From /apps/pkg/tensorflow/1.13.1/rhel7_u5_ana3/cuda10/lib/python3.6/site-packages/tensorflow/python/framework/op_def_library.py:263: colocate_with (from tensorflow.python.framework.ops) is deprecated and will be removed in a future version.\n",
      "Instructions for updating:\n",
      "Colocations handled automatically by placer.\n",
      "WARNING:tensorflow:From /apps/pkg/tensorflow/1.13.1/rhel7_u5_ana3/cuda10/lib/python3.6/site-packages/keras/backend/tensorflow_backend.py:3445: calling dropout (from tensorflow.python.ops.nn_ops) with keep_prob is deprecated and will be removed in a future version.\n",
      "Instructions for updating:\n",
      "Please use `rate` instead of `keep_prob`. Rate should be set to `rate = 1 - keep_prob`.\n"
     ]
    }
   ],
   "source": [
    "autoencoder = Sequential()\n",
    "# encoder\n",
    "# tall and thin\n",
    "autoencoder.add(Conv1D(32, 5, padding='same',activation='relu',kernel_regularizer=l1(kr),input_shape=(x, inChannel)))\n",
    "# autoencoder.add(BatchNormalization())\n",
    "autoencoder.add(MaxPooling1D(pool_size=2))\n",
    "autoencoder.add(Dropout(drop_prec))\n",
    "          \n",
    "autoencoder.add(Conv1D(64, 5, padding='same', activation='relu', kernel_regularizer=l1(kr))) \n",
    "# autoencoder.add(BatchNormalization())\n",
    "autoencoder.add(MaxPooling1D(pool_size=2)) \n",
    "autoencoder.add(Dropout(drop_prec))\n",
    "\n",
    "# small and thick\n",
    "autoencoder.add(Conv1D(128, 5, padding='same', activation='relu', kernel_regularizer=l1(kr)))\n",
    "# autoencoder.add(BatchNormalization())\n",
    "\n",
    "# decoder\n",
    "autoencoder.add(Conv1D(128, 5, padding='same', activation='relu', kernel_regularizer=l1(kr))) \n",
    "# autoencoder.add(BatchNormalization())\n",
    "autoencoder.add(UpSampling1D(2)) \n",
    "          \n",
    "autoencoder.add(Conv1D(64, 5, padding='same', activation='relu', kernel_regularizer=l1(kr))) \n",
    "# autoencoder.add(BatchNormalization())\n",
    "autoencoder.add(UpSampling1D(2))\n",
    "\n",
    "autoencoder.add(Conv1D(1, 5, activation='sigmoid', padding='same',kernel_regularizer=l1(kr))) "
   ]
  },
  {
   "cell_type": "code",
   "execution_count": 9,
   "metadata": {},
   "outputs": [],
   "source": [
    "#autoencoder.compile(loss='mean_squared_error', optimizer = RMSprop())\n",
    "#autoencoder.compile(loss='binary_crossentropy', optimizer='adadelta',metrics=['accuracy'])\n",
    "autoencoder.compile(loss='binary_crossentropy', \n",
    "                    optimizer='adam',\n",
    "                    metrics=['accuracy'])"
   ]
  },
  {
   "cell_type": "code",
   "execution_count": 15,
   "metadata": {},
   "outputs": [
    {
     "name": "stdout",
     "output_type": "stream",
     "text": [
      "_________________________________________________________________\n",
      "Layer (type)                 Output Shape              Param #   \n",
      "=================================================================\n",
      "conv1d_2 (Conv1D)            (None, 5000, 32)          192       \n",
      "_________________________________________________________________\n",
      "max_pooling1d_2 (MaxPooling1 (None, 2500, 32)          0         \n",
      "_________________________________________________________________\n",
      "dropout_1 (Dropout)          (None, 2500, 32)          0         \n",
      "_________________________________________________________________\n",
      "conv1d_3 (Conv1D)            (None, 2500, 64)          10304     \n",
      "_________________________________________________________________\n",
      "max_pooling1d_3 (MaxPooling1 (None, 1250, 64)          0         \n",
      "_________________________________________________________________\n",
      "dropout_2 (Dropout)          (None, 1250, 64)          0         \n",
      "_________________________________________________________________\n",
      "conv1d_4 (Conv1D)            (None, 1250, 128)         41088     \n",
      "_________________________________________________________________\n",
      "conv1d_5 (Conv1D)            (None, 1250, 128)         82048     \n",
      "_________________________________________________________________\n",
      "up_sampling1d_1 (UpSampling1 (None, 2500, 128)         0         \n",
      "_________________________________________________________________\n",
      "conv1d_6 (Conv1D)            (None, 2500, 64)          41024     \n",
      "_________________________________________________________________\n",
      "up_sampling1d_2 (UpSampling1 (None, 5000, 64)          0         \n",
      "_________________________________________________________________\n",
      "conv1d_7 (Conv1D)            (None, 5000, 1)           321       \n",
      "=================================================================\n",
      "Total params: 174,977\n",
      "Trainable params: 174,977\n",
      "Non-trainable params: 0\n",
      "_________________________________________________________________\n"
     ]
    }
   ],
   "source": [
    "autoencoder.summary()"
   ]
  },
  {
   "cell_type": "markdown",
   "metadata": {},
   "source": [
    "# Preprocessing\n",
    "## Add missing masker"
   ]
  },
  {
   "cell_type": "code",
   "execution_count": 23,
   "metadata": {},
   "outputs": [],
   "source": [
    "# random missing masker\n",
    "nonmissing_perc = 1- missing_perc\n",
    "missing_masker = np.random.binomial(1, nonmissing_perc, size=df.shape[0] * df.shape[1])\n",
    "missing_masker = missing_masker.reshape(df.shape[0],df.shape[1])"
   ]
  },
  {
   "cell_type": "code",
   "execution_count": 24,
   "metadata": {},
   "outputs": [
    {
     "data": {
      "text/html": [
       "<div>\n",
       "<style scoped>\n",
       "    .dataframe tbody tr th:only-of-type {\n",
       "        vertical-align: middle;\n",
       "    }\n",
       "\n",
       "    .dataframe tbody tr th {\n",
       "        vertical-align: top;\n",
       "    }\n",
       "\n",
       "    .dataframe thead th {\n",
       "        text-align: right;\n",
       "    }\n",
       "</style>\n",
       "<table border=\"1\" class=\"dataframe\">\n",
       "  <thead>\n",
       "    <tr style=\"text-align: right;\">\n",
       "      <th></th>\n",
       "      <th>33070_chrI_33070_A_T</th>\n",
       "      <th>33147_chrI_33147_G_T</th>\n",
       "      <th>33152_chrI_33152_T_C</th>\n",
       "      <th>33200_chrI_33200_C_T</th>\n",
       "      <th>33293_chrI_33293_A_T</th>\n",
       "      <th>33328_chrI_33328_C_A</th>\n",
       "      <th>33348_chrI_33348_G_C</th>\n",
       "      <th>33403_chrI_33403_C_T</th>\n",
       "      <th>33502_chrI_33502_A_G</th>\n",
       "      <th>33548_chrI_33548_A_C</th>\n",
       "      <th>...</th>\n",
       "      <th>1971117_chrIV_611095_A_T</th>\n",
       "      <th>1971647_chrIV_611625_A_G</th>\n",
       "      <th>1972595_chrIV_612573_G_A</th>\n",
       "      <th>1973813_chrIV_613791_A_G</th>\n",
       "      <th>1974760_chrIV_614738_A_C</th>\n",
       "      <th>1975136_chrIV_615114_C_T</th>\n",
       "      <th>1975838_chrIV_615816_C_T</th>\n",
       "      <th>1976191_chrIV_616169_G_A</th>\n",
       "      <th>1976581_chrIV_616559_G_A</th>\n",
       "      <th>1976646_chrIV_616624_G_T</th>\n",
       "    </tr>\n",
       "    <tr>\n",
       "      <th>SAMID</th>\n",
       "      <th></th>\n",
       "      <th></th>\n",
       "      <th></th>\n",
       "      <th></th>\n",
       "      <th></th>\n",
       "      <th></th>\n",
       "      <th></th>\n",
       "      <th></th>\n",
       "      <th></th>\n",
       "      <th></th>\n",
       "      <th></th>\n",
       "      <th></th>\n",
       "      <th></th>\n",
       "      <th></th>\n",
       "      <th></th>\n",
       "      <th></th>\n",
       "      <th></th>\n",
       "      <th></th>\n",
       "      <th></th>\n",
       "      <th></th>\n",
       "      <th></th>\n",
       "    </tr>\n",
       "  </thead>\n",
       "  <tbody>\n",
       "    <tr>\n",
       "      <th>01_01</th>\n",
       "      <td>1</td>\n",
       "      <td>1</td>\n",
       "      <td>1</td>\n",
       "      <td>1</td>\n",
       "      <td>1</td>\n",
       "      <td>1</td>\n",
       "      <td>1</td>\n",
       "      <td>1</td>\n",
       "      <td>1</td>\n",
       "      <td>1</td>\n",
       "      <td>...</td>\n",
       "      <td>1</td>\n",
       "      <td>1</td>\n",
       "      <td>1</td>\n",
       "      <td>1</td>\n",
       "      <td>1</td>\n",
       "      <td>1</td>\n",
       "      <td>1</td>\n",
       "      <td>1</td>\n",
       "      <td>1</td>\n",
       "      <td>1</td>\n",
       "    </tr>\n",
       "    <tr>\n",
       "      <th>01_02</th>\n",
       "      <td>1</td>\n",
       "      <td>1</td>\n",
       "      <td>1</td>\n",
       "      <td>1</td>\n",
       "      <td>1</td>\n",
       "      <td>1</td>\n",
       "      <td>1</td>\n",
       "      <td>1</td>\n",
       "      <td>1</td>\n",
       "      <td>1</td>\n",
       "      <td>...</td>\n",
       "      <td>1</td>\n",
       "      <td>1</td>\n",
       "      <td>1</td>\n",
       "      <td>1</td>\n",
       "      <td>1</td>\n",
       "      <td>1</td>\n",
       "      <td>1</td>\n",
       "      <td>1</td>\n",
       "      <td>1</td>\n",
       "      <td>1</td>\n",
       "    </tr>\n",
       "    <tr>\n",
       "      <th>01_03</th>\n",
       "      <td>2</td>\n",
       "      <td>2</td>\n",
       "      <td>0</td>\n",
       "      <td>2</td>\n",
       "      <td>2</td>\n",
       "      <td>2</td>\n",
       "      <td>2</td>\n",
       "      <td>2</td>\n",
       "      <td>2</td>\n",
       "      <td>2</td>\n",
       "      <td>...</td>\n",
       "      <td>2</td>\n",
       "      <td>2</td>\n",
       "      <td>2</td>\n",
       "      <td>2</td>\n",
       "      <td>2</td>\n",
       "      <td>0</td>\n",
       "      <td>2</td>\n",
       "      <td>2</td>\n",
       "      <td>2</td>\n",
       "      <td>2</td>\n",
       "    </tr>\n",
       "    <tr>\n",
       "      <th>01_04</th>\n",
       "      <td>1</td>\n",
       "      <td>1</td>\n",
       "      <td>1</td>\n",
       "      <td>1</td>\n",
       "      <td>1</td>\n",
       "      <td>1</td>\n",
       "      <td>1</td>\n",
       "      <td>1</td>\n",
       "      <td>1</td>\n",
       "      <td>1</td>\n",
       "      <td>...</td>\n",
       "      <td>2</td>\n",
       "      <td>2</td>\n",
       "      <td>2</td>\n",
       "      <td>2</td>\n",
       "      <td>2</td>\n",
       "      <td>2</td>\n",
       "      <td>2</td>\n",
       "      <td>2</td>\n",
       "      <td>2</td>\n",
       "      <td>2</td>\n",
       "    </tr>\n",
       "    <tr>\n",
       "      <th>01_06</th>\n",
       "      <td>2</td>\n",
       "      <td>2</td>\n",
       "      <td>2</td>\n",
       "      <td>2</td>\n",
       "      <td>2</td>\n",
       "      <td>2</td>\n",
       "      <td>0</td>\n",
       "      <td>2</td>\n",
       "      <td>2</td>\n",
       "      <td>2</td>\n",
       "      <td>...</td>\n",
       "      <td>1</td>\n",
       "      <td>1</td>\n",
       "      <td>1</td>\n",
       "      <td>1</td>\n",
       "      <td>0</td>\n",
       "      <td>1</td>\n",
       "      <td>1</td>\n",
       "      <td>1</td>\n",
       "      <td>1</td>\n",
       "      <td>1</td>\n",
       "    </tr>\n",
       "  </tbody>\n",
       "</table>\n",
       "<p>5 rows × 5000 columns</p>\n",
       "</div>"
      ],
      "text/plain": [
       "       33070_chrI_33070_A_T  33147_chrI_33147_G_T  33152_chrI_33152_T_C  \\\n",
       "SAMID                                                                     \n",
       "01_01                     1                     1                     1   \n",
       "01_02                     1                     1                     1   \n",
       "01_03                     2                     2                     0   \n",
       "01_04                     1                     1                     1   \n",
       "01_06                     2                     2                     2   \n",
       "\n",
       "       33200_chrI_33200_C_T  33293_chrI_33293_A_T  33328_chrI_33328_C_A  \\\n",
       "SAMID                                                                     \n",
       "01_01                     1                     1                     1   \n",
       "01_02                     1                     1                     1   \n",
       "01_03                     2                     2                     2   \n",
       "01_04                     1                     1                     1   \n",
       "01_06                     2                     2                     2   \n",
       "\n",
       "       33348_chrI_33348_G_C  33403_chrI_33403_C_T  33502_chrI_33502_A_G  \\\n",
       "SAMID                                                                     \n",
       "01_01                     1                     1                     1   \n",
       "01_02                     1                     1                     1   \n",
       "01_03                     2                     2                     2   \n",
       "01_04                     1                     1                     1   \n",
       "01_06                     0                     2                     2   \n",
       "\n",
       "       33548_chrI_33548_A_C            ...             \\\n",
       "SAMID                                  ...              \n",
       "01_01                     1            ...              \n",
       "01_02                     1            ...              \n",
       "01_03                     2            ...              \n",
       "01_04                     1            ...              \n",
       "01_06                     2            ...              \n",
       "\n",
       "       1971117_chrIV_611095_A_T  1971647_chrIV_611625_A_G  \\\n",
       "SAMID                                                       \n",
       "01_01                         1                         1   \n",
       "01_02                         1                         1   \n",
       "01_03                         2                         2   \n",
       "01_04                         2                         2   \n",
       "01_06                         1                         1   \n",
       "\n",
       "       1972595_chrIV_612573_G_A  1973813_chrIV_613791_A_G  \\\n",
       "SAMID                                                       \n",
       "01_01                         1                         1   \n",
       "01_02                         1                         1   \n",
       "01_03                         2                         2   \n",
       "01_04                         2                         2   \n",
       "01_06                         1                         1   \n",
       "\n",
       "       1974760_chrIV_614738_A_C  1975136_chrIV_615114_C_T  \\\n",
       "SAMID                                                       \n",
       "01_01                         1                         1   \n",
       "01_02                         1                         1   \n",
       "01_03                         2                         0   \n",
       "01_04                         2                         2   \n",
       "01_06                         0                         1   \n",
       "\n",
       "       1975838_chrIV_615816_C_T  1976191_chrIV_616169_G_A  \\\n",
       "SAMID                                                       \n",
       "01_01                         1                         1   \n",
       "01_02                         1                         1   \n",
       "01_03                         2                         2   \n",
       "01_04                         2                         2   \n",
       "01_06                         1                         1   \n",
       "\n",
       "       1976581_chrIV_616559_G_A  1976646_chrIV_616624_G_T  \n",
       "SAMID                                                      \n",
       "01_01                         1                         1  \n",
       "01_02                         1                         1  \n",
       "01_03                         2                         2  \n",
       "01_04                         2                         2  \n",
       "01_06                         1                         1  \n",
       "\n",
       "[5 rows x 5000 columns]"
      ]
     },
     "execution_count": 24,
     "metadata": {},
     "output_type": "execute_result"
    }
   ],
   "source": [
    "corrupted_df = df * missing_masker\n",
    "corrupted_df.head()"
   ]
  },
  {
   "cell_type": "code",
   "execution_count": 27,
   "metadata": {},
   "outputs": [],
   "source": [
    "# normlization\n",
    "min_max_scaler = preprocessing.MinMaxScaler()\n",
    "df = min_max_scaler.fit_transform(df)\n",
    "corrupted_df = min_max_scaler.fit_transform(corrupted_df)\n",
    "# print(\"Data shape: {shape}\".format(shape=df.shape))\n",
    "# corrupted_df[0:5,:], df[0:5,:]"
   ]
  },
  {
   "cell_type": "code",
   "execution_count": 28,
   "metadata": {},
   "outputs": [
    {
     "name": "stdout",
     "output_type": "stream",
     "text": [
      "(1000, 5000, 1) (1000, 5000, 1)\n"
     ]
    }
   ],
   "source": [
    "# for conv 1D\n",
    "# reshape corrupted feature vector as image\n",
    "corrupted_df = corrupted_df.reshape(-1, feature_size,1)\n",
    "df = df.reshape(-1, feature_size,1)\n",
    "\n",
    "print(corrupted_df.shape, df.shape)"
   ]
  },
  {
   "cell_type": "code",
   "execution_count": 29,
   "metadata": {
    "scrolled": true
   },
   "outputs": [
    {
     "data": {
      "text/plain": [
       "((800, 5000, 1), (200, 5000, 1), (800, 5000, 1), (200, 5000, 1))"
      ]
     },
     "execution_count": 29,
     "metadata": {},
     "output_type": "execute_result"
    }
   ],
   "source": [
    "# split df to train and valid\n",
    "train_data,test_data,train_Y,test_Y = train_test_split(corrupted_df,\n",
    "                                                       df, \n",
    "                                                       test_size=0.2, \n",
    "                                                       random_state=13)\n",
    "train_data.shape, test_data.shape, train_Y.shape, test_Y.shape"
   ]
  },
  {
   "cell_type": "code",
   "execution_count": 30,
   "metadata": {},
   "outputs": [
    {
     "data": {
      "text/plain": [
       "((640, 5000, 1), (640, 5000, 1))"
      ]
     },
     "execution_count": 30,
     "metadata": {},
     "output_type": "execute_result"
    }
   ],
   "source": [
    "# split train to train and valid\n",
    "train_X,valid_X,train_Y,valid_Y = train_test_split(train_data,\n",
    "                                                   train_Y, \n",
    "                                                   test_size=0.2, \n",
    "                                                   random_state=13)\n",
    "\n",
    "\n",
    "train_X.shape, train_Y.shape"
   ]
  },
  {
   "cell_type": "code",
   "execution_count": 34,
   "metadata": {},
   "outputs": [],
   "source": [
    "from keras.utils import plot_model\n",
    "from IPython.display import SVG\n",
    "from keras.utils.vis_utils import plot_model\n",
    "\n",
    "# plot model architechture \n",
    "plot_model(autoencoder, to_file='models/model.png', show_shapes=True, show_layer_names=True)\n",
    "\n",
    "# SVG(model_to_dot(autoencoder).create(prog='dot', format='svg'))"
   ]
  },
  {
   "cell_type": "markdown",
   "metadata": {},
   "source": [
    "# Training"
   ]
  },
  {
   "cell_type": "code",
   "execution_count": 22,
   "metadata": {},
   "outputs": [],
   "source": [
    "# tensorboard callback\n",
    "# tensorboard = TensorBoard(log_dir=\"logs/{}\".format('tutorial_autoencoder'))"
   ]
  },
  {
   "cell_type": "code",
   "execution_count": 37,
   "metadata": {},
   "outputs": [
    {
     "name": "stdout",
     "output_type": "stream",
     "text": [
      "Train on 640 samples, validate on 160 samples\n",
      "Epoch 1/10\n",
      "640/640 [==============================] - 27s 42ms/step - loss: 5.8809 - acc: 0.5106 - val_loss: 4.3841 - val_acc: 0.4954\n",
      "Epoch 2/10\n",
      "640/640 [==============================] - 14s 23ms/step - loss: 3.1951 - acc: 0.8469 - val_loss: 2.0232 - val_acc: 0.9973\n",
      "Epoch 3/10\n",
      "640/640 [==============================] - 15s 23ms/step - loss: 1.3863 - acc: 0.9952 - val_loss: 0.8403 - val_acc: 0.9986\n",
      "Epoch 4/10\n",
      "640/640 [==============================] - 15s 23ms/step - loss: 0.5944 - acc: 0.9953 - val_loss: 0.4222 - val_acc: 0.9980\n",
      "Epoch 5/10\n",
      "640/640 [==============================] - 14s 23ms/step - loss: 0.3418 - acc: 0.9955 - val_loss: 0.2758 - val_acc: 0.9984\n",
      "Epoch 6/10\n",
      "640/640 [==============================] - 15s 23ms/step - loss: 0.2424 - acc: 0.9959 - val_loss: 0.2147 - val_acc: 0.9986\n",
      "Epoch 7/10\n",
      "640/640 [==============================] - 15s 23ms/step - loss: 0.1982 - acc: 0.9961 - val_loss: 0.1828 - val_acc: 0.9990\n",
      "Epoch 8/10\n",
      "640/640 [==============================] - 15s 23ms/step - loss: 0.1717 - acc: 0.9962 - val_loss: 0.1604 - val_acc: 0.9991\n",
      "Epoch 9/10\n",
      "640/640 [==============================] - 15s 23ms/step - loss: 0.1536 - acc: 0.9963 - val_loss: 0.1452 - val_acc: 0.9991\n",
      "Epoch 10/10\n",
      "640/640 [==============================] - 15s 23ms/step - loss: 0.1403 - acc: 0.9964 - val_loss: 0.1335 - val_acc: 0.9993\n"
     ]
    }
   ],
   "source": [
    "autoencoder_train = autoencoder.fit(train_X, \n",
    "                                    train_Y, \n",
    "                                    batch_size=batch_size,\n",
    "                                    epochs=epochs,\n",
    "                                    verbose=1,\n",
    "                                    validation_data=(valid_X, \n",
    "                                                     valid_Y),\n",
    "#                                     callbacks=[tensorboard]\n",
    "                                   )"
   ]
  },
  {
   "cell_type": "markdown",
   "metadata": {},
   "source": [
    "# Save model"
   ]
  },
  {
   "cell_type": "code",
   "execution_count": 38,
   "metadata": {},
   "outputs": [
    {
     "name": "stdout",
     "output_type": "stream",
     "text": [
      "Saved model to disk\n"
     ]
    }
   ],
   "source": [
    "# serialize model to JSON\n",
    "autoencoder_json = autoencoder.to_json()\n",
    "with open(\"autoencoder.json\", \"w\") as json_file:\n",
    "    json_file.write(autoencoder_json)\n",
    "    \n",
    "# serialize weights to HDF5\n",
    "autoencoder.save_weights(\"autoencoder.h5\")\n",
    "print(\"Saved model to disk\")\n",
    "\n",
    "# # load json and create model\n",
    "# json_file = open('autoencoder.json', 'r')\n",
    "# loaded_model_json = json_file.read()\n",
    "# json_file.close()\n",
    "# loaded_model = model_from_json(loaded_model_json)\n",
    "# # load weights into new model\n",
    "# loaded_model.load_weights(\"autoencoder.h5\")\n",
    "# print(\"Loaded model from disk\")\n",
    "\n",
    "# # evaluate loaded model on test data\n",
    "# loaded_model.compile(loss='binary_crossentropy', optimizer='rmsprop', metrics=['accuracy'])\n",
    "# score = loaded_model.evaluate(X, Y, verbose=0)\n",
    "# print(\"%s: %.2f%%\" % (loaded_model.metrics_names[1], score[1]*100))"
   ]
  },
  {
   "cell_type": "code",
   "execution_count": 39,
   "metadata": {},
   "outputs": [
    {
     "data": {
      "image/png": "[encoded data removed]",
      "text/plain": [
       "<Figure size 432x288 with 1 Axes>"
      ]
     },
     "metadata": {},
     "output_type": "display_data"
    }
   ],
   "source": [
    "# plot loss curve on validation data\n",
    "loss = autoencoder_train.history['loss']\n",
    "val_loss = autoencoder_train.history['val_loss']\n",
    "\n",
    "plt.figure()\n",
    "plt.plot(range(epochs), loss, 'bo', label='Training loss')\n",
    "plt.plot(range(epochs), val_loss, 'b', label='Validation loss')\n",
    "plt.title('Training and validation loss')\n",
    "plt.legend()\n",
    "plt.show()"
   ]
  },
  {
   "cell_type": "code",
   "execution_count": 41,
   "metadata": {},
   "outputs": [
    {
     "data": {
      "image/png": "[encoded data removed]",
      "text/plain": [
       "<Figure size 432x288 with 1 Axes>"
      ]
     },
     "metadata": {},
     "output_type": "display_data"
    }
   ],
   "source": [
    "# plot accuracy curve on validation data\n",
    "acc = autoencoder_train.history['acc']\n",
    "val_acc = autoencoder_train.history['val_acc']\n",
    "plt.figure()\n",
    "plt.plot(range(epochs), acc, 'bo', label='Training acc')\n",
    "plt.plot(range(epochs), val_acc, 'b', label='Validation acc')\n",
    "plt.title('Training and validation acc')\n",
    "plt.legend()\n",
    "plt.show()"
   ]
  },
  {
   "cell_type": "markdown",
   "metadata": {},
   "source": [
    "# Prediction on test data"
   ]
  },
  {
   "cell_type": "code",
   "execution_count": 45,
   "metadata": {},
   "outputs": [
    {
     "data": {
      "text/plain": [
       "array([[0.5, 0.5, 0. , ..., 1. , 1. , 1. ],\n",
       "       [1. , 1. , 1. , ..., 0.5, 0.5, 0.5],\n",
       "       [1. , 1. , 1. , ..., 0.5, 0.5, 0.5],\n",
       "       ...,\n",
       "       [0.5, 0.5, 0.5, ..., 1. , 1. , 1. ],\n",
       "       [1. , 1. , 1. , ..., 0.5, 1. , 1. ],\n",
       "       [0.5, 0.5, 0.5, ..., 1. , 0. , 0. ]])"
      ]
     },
     "execution_count": 45,
     "metadata": {},
     "output_type": "execute_result"
    }
   ],
   "source": [
    "# test_X\n",
    "test_data.reshape(-1, 5000)"
   ]
  },
  {
   "cell_type": "code",
   "execution_count": 46,
   "metadata": {},
   "outputs": [
    {
     "data": {
      "text/plain": [
       "array([[0., 0., 0., ..., 1., 1., 1.],\n",
       "       [1., 1., 1., ..., 0., 0., 0.],\n",
       "       [1., 1., 1., ..., 0., 0., 0.],\n",
       "       ...,\n",
       "       [0., 0., 0., ..., 1., 1., 1.],\n",
       "       [1., 1., 1., ..., 0., 1., 1.],\n",
       "       [0., 0., 0., ..., 1., 1., 1.]])"
      ]
     },
     "execution_count": 46,
     "metadata": {},
     "output_type": "execute_result"
    }
   ],
   "source": [
    "# test_Y\n",
    "test_Y.reshape(-1, 5000)"
   ]
  },
  {
   "cell_type": "code",
   "execution_count": 51,
   "metadata": {},
   "outputs": [
    {
     "data": {
      "text/plain": [
       "array([[0., 0., 0., ..., 1., 1., 1.],\n",
       "       [1., 1., 1., ..., 0., 0., 0.],\n",
       "       [0., 0., 1., ..., 0., 0., 0.],\n",
       "       ...,\n",
       "       [0., 0., 0., ..., 1., 1., 1.],\n",
       "       [0., 0., 0., ..., 0., 0., 0.],\n",
       "       [0., 0., 0., ..., 1., 0., 0.]], dtype=float32)"
      ]
     },
     "execution_count": 51,
     "metadata": {},
     "output_type": "execute_result"
    }
   ],
   "source": [
    "# predict\n",
    "predict_data = autoencoder.predict(test_data)\n",
    "predict_data[predict_data > 0.5] = 1\n",
    "predict_data[predict_data < 0.5] = 0\n",
    "predict_data = predict_data.reshape(-1, df.shape[1])\n",
    "predict_data"
   ]
  },
  {
   "cell_type": "code",
   "execution_count": 56,
   "metadata": {},
   "outputs": [
    {
     "name": "stdout",
     "output_type": "stream",
     "text": [
      "acc of imputation:  0.9972004479283315\n"
     ]
    }
   ],
   "source": [
    "# manunally defined evaluation\n",
    "mask = test_data.reshape(-1, feature_size) == 0\n",
    "no_wrong_imp = np.count_nonzero(predict_data[mask] - test_Y[mask].ravel())\n",
    "acc = 1- no_wrong_imp / test_Y[mask].ravel().shape[0]\n",
    "\n",
    "print('acc of imputation: ', acc)"
   ]
  }
 ],
 "metadata": {
  "kernelspec": {
   "display_name": "Python 3",
   "language": "python",
   "name": "python3"
  },
  "language_info": {
   "codemirror_mode": {
    "name": "ipython",
    "version": 3
   },
   "file_extension": ".py",
   "mimetype": "text/x-python",
   "name": "python",
   "nbconvert_exporter": "python",
   "pygments_lexer": "ipython3",
   "version": "3.6.8"
  }
 },
 "nbformat": 4,
 "nbformat_minor": 2
}
